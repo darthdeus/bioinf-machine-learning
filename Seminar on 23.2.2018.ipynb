{
 "cells": [
  {
   "cell_type": "markdown",
   "metadata": {},
   "source": [
    "Let us start\n",
    "============\n",
    "\n",
    "Define a function for computing $k$-th powwer of a matrix using numpy\n",
    " * one version with computing the multiplication \"manually\"\n",
    " * and another version computing multiplications using numpy.\n",
    "\n",
    "Compare their time complexity."
   ]
  },
  {
   "cell_type": "code",
   "execution_count": 1,
   "metadata": {},
   "outputs": [],
   "source": [
    "import numpy as np\n",
    "import matplotlib.pyplot as plt\n",
    "\n",
    "def kpow(m, k): return np.power(m, k)\n",
    "\n",
    "def kpow_np(m, k):\n",
    "    res = m\n",
    "    for i in range(k - 1):\n",
    "        res = np.matmul(res, m)\n",
    "\n",
    "    return res"
   ]
  },
  {
   "cell_type": "code",
   "execution_count": 2,
   "metadata": {},
   "outputs": [
    {
     "name": "stdout",
     "output_type": "stream",
     "text": [
      "70.2 µs ± 498 ns per loop (mean ± std. dev. of 7 runs, 10000 loops each)\n"
     ]
    }
   ],
   "source": [
    "%timeit kpow_np([[1, 0], [0, 1]], 20)"
   ]
  },
  {
   "cell_type": "code",
   "execution_count": 3,
   "metadata": {},
   "outputs": [
    {
     "name": "stdout",
     "output_type": "stream",
     "text": [
      "3.44 µs ± 88.9 ns per loop (mean ± std. dev. of 7 runs, 100000 loops each)\n"
     ]
    }
   ],
   "source": [
    "%timeit kpow([[1, 0], [0, 1]], 20)"
   ]
  },
  {
   "cell_type": "code",
   "execution_count": 4,
   "metadata": {},
   "outputs": [
    {
     "name": "stdout",
     "output_type": "stream",
     "text": [
      "230 µs ± 28.6 µs per loop (mean ± std. dev. of 7 runs, 1000 loops each)\n"
     ]
    }
   ],
   "source": [
    "import numpy as np\n",
    "\n",
    "def BasicPower(matrix, power):\n",
    "    N = matrix.shape[0]\n",
    "    temp = matrix.copy()\n",
    "    temp_ = np.zeros((N, N))\n",
    "    for i in range(0, power-1):\n",
    "        temp_ = temp.copy()\n",
    "        temp = np.zeros((N, N))\n",
    "        for j in range(0, N):\n",
    "            for k in range(0, N):\n",
    "                for l in range(0, N):\n",
    "                    temp[j][k] += temp_[j, l] * matrix[l, k]\n",
    "    return temp\n",
    "\n",
    "# print(BasicPower(C)  \n",
    "%timeit BasicPower(np.array([[1,2],[2,1]]), 20)"
   ]
  },
  {
   "cell_type": "code",
   "execution_count": 5,
   "metadata": {},
   "outputs": [],
   "source": [
    "def mat_mult(X,Y):\n",
    "    result = [len(Y[0])*[0]]*len(X)\n",
    "    for i in range(len(X)):\n",
    "        for j in range(len(X[0])):\n",
    "            for k in range(len(Y)):\n",
    "                result[i][j] += X[i][k] * X[i][k]\n",
    "    return(result)\n",
    "\n",
    "def mat_power(m,power):\n",
    "    res = m\n",
    "    i=1\n",
    "    while i<power:\n",
    "        res = mat_mult(res,m)\n",
    "        i=i+1\n",
    "    return(res)"
   ]
  },
  {
   "cell_type": "markdown",
   "metadata": {},
   "source": []
  },
  {
   "cell_type": "code",
   "execution_count": 6,
   "metadata": {},
   "outputs": [
    {
     "data": {
      "text/plain": [
       "[[1, 2], [2, 1]]"
      ]
     },
     "execution_count": 6,
     "metadata": {},
     "output_type": "execute_result"
    }
   ],
   "source": [
    "[[1,2],[2,1]]"
   ]
  },
  {
   "cell_type": "code",
   "execution_count": 7,
   "metadata": {},
   "outputs": [
    {
     "name": "stdout",
     "output_type": "stream",
     "text": [
      "[[1048576 1048576]\n",
      " [1048576 1048576]]\n",
      "[[1048576 1048576]\n",
      " [1048576 1048576]]\n"
     ]
    }
   ],
   "source": [
    "import numpy as np\n",
    "def matrixmul(mat, k):\n",
    "    return mat ** k\n",
    "\n",
    "def matrixmul1(mat, k):\n",
    "    result = mat\n",
    "    exp = 0\n",
    "    c = k\n",
    "    while c > 1:\n",
    "        c //= 2\n",
    "        exp += 1\n",
    "    \n",
    "    for i in range(exp, 0, -1):\n",
    "        result = result * result\n",
    "        if (k & (2 ** (i-1))) > 0:\n",
    "            result = result * mat\n",
    "    return result\n",
    "\n",
    "print(matrixmul(np.matrix('1,1;1,1'),21))\n",
    "print(matrixmul1(np.matrix('1,1;1,1'),21))\n",
    "\n",
    "#%timeit matrixmul(np.matrix('1,1;1,1'),42)\n",
    "#%timeit matrixmul1(np.matrix('1,1;1,1'),42)"
   ]
  },
  {
   "cell_type": "code",
   "execution_count": 14,
   "metadata": {},
   "outputs": [
    {
     "data": {
      "image/png": "[encoded data removed]",
      "text/plain": [
       "<matplotlib.figure.Figure at 0x10cd1e390>"
      ]
     },
     "metadata": {},
     "output_type": "display_data"
    }
   ],
   "source": [
    "%matplotlib inline\n",
    "import matplotlib.pyplot as plt\n",
    "\n",
    "x = np.linspace(-5, 5,5000)\n",
    "y = np.sin(3*x - 2) + 3\n",
    "d = np.random.normal(0, 0.2, 5000)\n",
    "plt.plot(x,y+d, x, y)\n",
    "plt.show()"
   ]
  },
  {
   "cell_type": "code",
   "execution_count": 20,
   "metadata": {},
   "outputs": [],
   "source": []
  },
  {
   "cell_type": "code",
   "execution_count": null,
   "metadata": {},
   "outputs": [],
   "source": []
  }
 ],
 "metadata": {
  "kernelspec": {
   "display_name": "Python 3",
   "language": "python",
   "name": "python3"
  },
  "language_info": {
   "codemirror_mode": {
    "name": "ipython",
    "version": 3
   },
   "file_extension": ".py",
   "mimetype": "text/x-python",
   "name": "python",
   "nbconvert_exporter": "python",
   "pygments_lexer": "ipython3",
   "version": "3.6.4"
  },
  "varInspector": {
   "cols": {
    "lenName": 16,
    "lenType": 16,
    "lenVar": 40
   },
   "kernels_config": {
    "python": {
     "delete_cmd_postfix": "",
     "delete_cmd_prefix": "del ",
     "library": "var_list.py",
     "varRefreshCmd": "print(var_dic_list())"
    },
    "r": {
     "delete_cmd_postfix": ") ",
     "delete_cmd_prefix": "rm(",
     "library": "var_list.r",
     "varRefreshCmd": "cat(var_dic_list()) "
    }
   },
   "types_to_exclude": [
    "module",
    "function",
    "builtin_function_or_method",
    "instance",
    "_Feature"
   ],
   "window_display": false
  }
 },
 "nbformat": 4,
 "nbformat_minor": 2
}
